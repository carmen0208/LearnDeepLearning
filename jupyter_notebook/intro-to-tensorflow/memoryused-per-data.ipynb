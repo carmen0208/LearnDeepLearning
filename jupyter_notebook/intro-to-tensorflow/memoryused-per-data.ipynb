{
 "cells": [
  {
   "cell_type": "code",
   "execution_count": 4,
   "metadata": {},
   "outputs": [
    {
     "name": "stdout",
     "output_type": "stream",
     "text": [
      "[[ 0.19836304  1.69089365 -2.02496934 ...,  1.17145956 -1.32665324\n",
      "   0.20170331]\n",
      " [-1.15267682  0.7623136  -0.04036343 ...,  0.67254841  0.74505132\n",
      "   1.25186825]\n",
      " [ 1.0083667  -0.45568782 -1.00966191 ..., -1.23497629 -0.48349404\n",
      "  -1.28252721]\n",
      " ..., \n",
      " [ 0.22334912 -0.19860566  0.74120629 ...,  0.36653948 -0.18698496\n",
      "   1.3186034 ]\n",
      " [-1.64603949  3.30945849  1.80897284 ...,  1.56694651  0.72709656\n",
      "   1.40881467]\n",
      " [ 0.13546623  1.62046027  2.18302798 ...,  0.26071894 -0.0066363\n",
      "  -0.35655561]]\n",
      "31472\n",
      "136\n"
     ]
    }
   ],
   "source": [
    "import tensorflow as tf\n",
    "import sys\n",
    "\n",
    "n_input = 784  # MNIST data input (img shape: 28*28)\n",
    "n_classes = 10  # MNIST total classes (0-9 digits)\n",
    "# Weights & bias\n",
    "weights = tf.Variable(tf.random_normal([n_input, n_classes]))\n",
    "bias = tf.Variable(tf.random_normal([n_classes]))\n",
    "\n",
    "# # Import MNIST data\n",
    "# mnist = input_data.read_data_sets('/datasets/ud730/mnist', one_hot=True)\n",
    "\n",
    "# # The features are already scaled and the data is shuffled\n",
    "# train_features = mnist.train.images\n",
    "# test_features = mnist.test.images\n",
    "\n",
    "# train_features Shape: (55000, 784) Type: float32\n",
    "\n",
    "# train_labels Shape: (55000, 10) Type: float32\n",
    "\n",
    "# weights Shape: (784, 10) Type: float32\n",
    "\n",
    "# bias Shape: (10,) Type: float32\n",
    "model = tf.global_variables_initializer()\n",
    "with tf.Session() as session:\n",
    "  session.run(model)\n",
    "  print(session.run(weights))\n",
    "  print(sys.getsizeof(session.run(weights)))\n",
    "  print(sys.getsizeof(session.run(bias)))\n",
    "#31472"
   ]
  },
  {
   "cell_type": "markdown",
   "metadata": {},
   "source": [
    "## How to calculate Memory use:\n",
    "* train_features Shape: (55000, 784) Type: float32 = 55000 * 784 * 4\n",
    "* train_labels Shape: (55000, 10) Type: float32 = 55000* 10 * 4\n",
    "* weights Shape: (784, 10) Type: float32 = 780 * 10* 4\n",
    "*  bias Shape: (10,) Type: float32 = 10 * 4"
   ]
  }
 ],
 "metadata": {
  "kernelspec": {
   "display_name": "Python 3",
   "language": "python",
   "name": "python3"
  },
  "language_info": {
   "codemirror_mode": {
    "name": "ipython",
    "version": 3
   },
   "file_extension": ".py",
   "mimetype": "text/x-python",
   "name": "python",
   "nbconvert_exporter": "python",
   "pygments_lexer": "ipython3",
   "version": "3.5.3"
  }
 },
 "nbformat": 4,
 "nbformat_minor": 2
}
