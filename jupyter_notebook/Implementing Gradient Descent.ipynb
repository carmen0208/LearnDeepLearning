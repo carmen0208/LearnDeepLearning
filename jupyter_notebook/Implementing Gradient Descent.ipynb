{
 "cells": [
  {
   "cell_type": "markdown",
   "metadata": {},
   "source": [
    "## data_prep.py"
   ]
  },
  {
   "cell_type": "code",
   "execution_count": 24,
   "metadata": {
    "collapsed": false
   },
   "outputs": [
    {
     "name": "stdout",
     "output_type": "stream",
     "text": [
      "     admit       gre       gpa  rank_1  rank_2  rank_3  rank_4\n",
      "20       0 -0.759199 -0.577822       0       0       1       0\n",
      "21       1  0.625884  0.630901       0       1       0       0\n",
      "48       0 -1.278605 -2.390908       0       0       0       1\n",
      "50       0  0.452749  1.235263       0       0       1       0\n",
      "54       0  0.625884 -0.131120       0       0       1       0\n",
      "58       0 -1.624876  0.683454       0       1       0       0\n",
      "71       0 -2.490553 -1.234737       0       0       0       1\n",
      "87       0  0.106478  0.236752       0       1       0       0\n",
      "99       0 -1.624876 -0.209950       0       0       1       0\n",
      "102      0 -1.798011 -0.157397       0       0       0       1\n",
      "106      1  0.972155  0.446965       1       0       0       0\n",
      "121      1 -0.932334 -1.891652       0       1       0       0\n",
      "130      1  0.279614 -0.577822       0       1       0       0\n",
      "149      0  1.318426 -0.209950       1       0       0       0\n",
      "151      0 -1.624876 -0.026014       0       1       0       0\n",
      "160      0  0.106478 -0.682929       0       1       0       0\n",
      "169      0  0.106478  0.604625       0       0       1       0\n",
      "174      0 -0.759199  0.368135       0       0       0       1\n",
      "187      0 -0.066657 -1.339844       0       1       0       0\n",
      "188      0 -0.239793 -0.840588       0       1       0       0\n",
      "189      0 -0.759199 -0.104844       0       1       0       0\n",
      "191      0  1.837832  0.394412       0       0       1       0\n",
      "214      1  0.106478  0.446965       0       1       0       0\n",
      "235      0  0.279614 -0.893142       0       1       0       0\n",
      "243      0  0.279614 -0.446439       0       1       0       0\n",
      "252      1 -0.586063  1.603135       0       1       0       0\n",
      "257      1  0.279614  1.471752       0       0       1       0\n",
      "270      1  0.452749  1.471752       0       1       0       0\n",
      "276      0 -1.105469  0.998773       0       0       1       0\n",
      "293      0  1.837832  1.524305       1       0       0       0\n",
      "308      0 -0.412928 -0.682929       0       1       0       0\n",
      "313      1 -0.586063  0.683454       0       0       0       1\n",
      "330      0  1.318426  1.603135       0       0       1       0\n",
      "343      0 -0.066657 -0.866865       0       1       0       0\n",
      "344      0 -0.586063 -0.104844       0       0       1       0\n",
      "348      0 -1.624876 -0.078567       0       1       0       0\n",
      "359      0  1.145291  1.445476       0       0       1       0\n",
      "372      1  0.799020 -2.548567       1       0       0       0\n",
      "397      0 -1.105469 -1.996759       0       1       0       0\n",
      "399      0  0.106478  1.314093       0       0       1       0\n"
     ]
    }
   ],
   "source": [
    "import numpy as np\n",
    "import pandas as pd\n",
    "\n",
    "admissions = pd.read_csv('binary.csv')\n",
    "\n",
    "# print(admissions)\n",
    "\n",
    "# Make dummy variables for rank\n",
    "data = pd.concat([admissions, pd.get_dummies(admissions['rank'], prefix='rank')], axis=1).drop('rank', axis=1)\n",
    "# print(data)\n",
    "\n",
    "# Standarizs features\n",
    "for field in ['gre', 'gpa']:\n",
    "    mean, std = data[field].mean(), data[field].std()\n",
    "    data.loc[:, field] = (data[field]-mean)/std\n",
    "    \n",
    "# print(data)\n",
    "\n",
    "# Split off random 10% of the data for testing\n",
    "np.random.seed(42)\n",
    "sample = np.random.choice(data.index, size=int(len(data)*0.9), replace=False)\n",
    "data, test_data = data.ix[sample], data.drop(sample)\n",
    "\n",
    "# Split into features and targets\n",
    "features, targets = data.drop('admit', axis=1), data['admit']\n",
    "features_test, targets_test = test_data.drop('admit', axis=1), test_data['admit']\n",
    "\n",
    "print(test_data)\n",
    "#, targets, features_test, targets_test])"
   ]
  },
  {
   "cell_type": "markdown",
   "metadata": {},
   "source": [
    "##  gradient.py"
   ]
  },
  {
   "cell_type": "code",
   "execution_count": 31,
   "metadata": {
    "collapsed": false
   },
   "outputs": [
    {
     "name": "stdout",
     "output_type": "stream",
     "text": [
      "[[-0.06665712  0.28930534  0.          1.          0.          0.        ]\n",
      " [ 0.62588442  1.44547565  0.          1.          0.          0.        ]\n",
      " [ 1.83783211  1.60313523  0.          0.          1.          0.        ]\n",
      " ..., \n",
      " [-0.41292789 -0.57782239  1.          0.          0.          0.        ]\n",
      " [ 0.62588442  1.60313523  1.          0.          0.          0.        ]\n",
      " [-0.41292789 -0.28877981  1.          0.          0.          0.        ]]\n"
     ]
    }
   ],
   "source": [
    "import numpy as np\n",
    "print(features.values)"
   ]
  },
  {
   "cell_type": "code",
   "execution_count": null,
   "metadata": {
    "collapsed": true
   },
   "outputs": [],
   "source": []
  },
  {
   "cell_type": "code",
   "execution_count": null,
   "metadata": {
    "collapsed": true
   },
   "outputs": [],
   "source": []
  },
  {
   "cell_type": "code",
   "execution_count": null,
   "metadata": {
    "collapsed": true
   },
   "outputs": [],
   "source": []
  }
 ],
 "metadata": {
  "kernelspec": {
   "display_name": "Python 3",
   "language": "python",
   "name": "python3"
  },
  "language_info": {
   "codemirror_mode": {
    "name": "ipython",
    "version": 3
   },
   "file_extension": ".py",
   "mimetype": "text/x-python",
   "name": "python",
   "nbconvert_exporter": "python",
   "pygments_lexer": "ipython3",
   "version": "3.6.0"
  }
 },
 "nbformat": 4,
 "nbformat_minor": 2
}
