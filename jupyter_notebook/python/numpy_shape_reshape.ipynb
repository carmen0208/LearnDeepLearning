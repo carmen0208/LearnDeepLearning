{
 "cells": [
  {
   "cell_type": "code",
   "execution_count": 21,
   "metadata": {},
   "outputs": [
    {
     "name": "stdout",
     "output_type": "stream",
     "text": [
      "(7, 3)\n",
      "7\n",
      "3\n",
      "(1,)\n",
      "(1,)\n",
      "[[[ 0.81879162 -1.04355064  0.3509007   0.92157829 -0.08738186 -3.12888464\n",
      "   -0.96973267  0.93466579  0.04386634  1.4252155 ]\n",
      "  [-0.55706272  0.92682445 -1.28355374  1.09625686 -1.93247255  0.4789592\n",
      "    1.34458964 -0.17542066 -0.08270438 -0.88845473]\n",
      "  [-0.30076649  0.90837517 -0.64559131 -1.32361363  1.67798561  0.29918144\n",
      "    0.1094715   1.04408091  0.1496757  -0.25247508]]\n",
      "\n",
      " [[ 0.84703683  0.50577368  0.39264502  0.14184493 -1.14321737  0.63979663\n",
      "   -0.59136144 -0.46415036 -0.79785911  1.31076281]\n",
      "  [ 1.17479389 -0.05046953  0.71895176 -0.59636537  0.25624696  0.77428894\n",
      "   -0.65856962  0.42183733 -0.47096903  2.1580121 ]\n",
      "  [-0.01163673 -1.16190998  1.22075543  0.14278476  0.23716386  0.37009495\n",
      "    2.05919819  0.71999964 -0.86680023 -0.34668516]]]\n",
      "(3, 5, 4)\n"
     ]
    }
   ],
   "source": [
    "import numpy as np\n",
    "x = np.array([[67,63,87],\n",
    "             [77,73,77],\n",
    "             [11,22,33],\n",
    "             [44,55,66],\n",
    "             [77,88,99],\n",
    "             [21,23,24],\n",
    "             [32,34,35]]\n",
    "            )\n",
    "\n",
    "print(np.shape(x))\n",
    "print(x.shape[0])\n",
    "print(x.shape[1])\n",
    "\n",
    "\n",
    "\n",
    "print(np.shape(np.reshape(3,1)))\n",
    "print(np.shape(np.reshape(-1,-1)))\n",
    "\n",
    "rng = np.random.RandomState(234)\n",
    "a = rng.randn(2,3,10)\n",
    "print(a)\n",
    "print(np.reshape(a, (3,5,-1)).shape)\n"
   ]
  },
  {
   "cell_type": "code",
   "execution_count": null,
   "metadata": {
    "collapsed": true
   },
   "outputs": [],
   "source": []
  }
 ],
 "metadata": {
  "kernelspec": {
   "display_name": "Python 3",
   "language": "python",
   "name": "python3"
  },
  "language_info": {
   "codemirror_mode": {
    "name": "ipython",
    "version": 3
   },
   "file_extension": ".py",
   "mimetype": "text/x-python",
   "name": "python",
   "nbconvert_exporter": "python",
   "pygments_lexer": "ipython3",
   "version": "3.5.3"
  }
 },
 "nbformat": 4,
 "nbformat_minor": 2
}
